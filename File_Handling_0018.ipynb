{
  "nbformat": 4,
  "nbformat_minor": 0,
  "metadata": {
    "colab": {
      "provenance": [],
      "include_colab_link": true
    },
    "kernelspec": {
      "name": "python3",
      "display_name": "Python 3"
    },
    "language_info": {
      "name": "python"
    }
  },
  "cells": [
    {
      "cell_type": "markdown",
      "metadata": {
        "id": "view-in-github",
        "colab_type": "text"
      },
      "source": [
        "<a href=\"https://colab.research.google.com/github/vennelaR123/vennelaa/blob/main/File_Handling_0018.ipynb\" target=\"_parent\"><img src=\"https://colab.research.google.com/assets/colab-badge.svg\" alt=\"Open In Colab\"/></a>"
      ]
    },
    {
      "cell_type": "markdown",
      "source": [
        "***Opening a file***\n"
      ],
      "metadata": {
        "id": "JS6hOv64VVoj"
      }
    },
    {
      "cell_type": "code",
      "source": [
        "F1 = open(\"/content/venni.txt\",\"r\")"
      ],
      "metadata": {
        "id": "Z7Vuw_pEVWXj"
      },
      "execution_count": null,
      "outputs": []
    },
    {
      "cell_type": "code",
      "source": [
        "def main():\n",
        "  obj1 = open(\"vennela1.txt\", \"w\")\n",
        "  obj1.write(\"Hello, How are you? \\n\")\n",
        "  obj1.write(\"Welcome to The File Handling. \\n\")\n",
        "  obj1.write(\"Enjoy the session. \\n\")\n",
        "\n",
        "\n",
        "main()"
      ],
      "metadata": {
        "id": "l-1iVhVAVaej"
      },
      "execution_count": null,
      "outputs": []
    },
    {
      "cell_type": "code",
      "source": [
        "fp1 = open(\"vennela1.txt\",\"w\")"
      ],
      "metadata": {
        "id": "Mxq8fTMJWK7T"
      },
      "execution_count": null,
      "outputs": []
    },
    {
      "cell_type": "code",
      "source": [
        "fp1.close()"
      ],
      "metadata": {
        "id": "Dk8h1_KpWStE"
      },
      "execution_count": null,
      "outputs": []
    },
    {
      "cell_type": "markdown",
      "source": [
        "Write numbers from 1 to 20 to the output file **WriteNumbers.txt**"
      ],
      "metadata": {
        "id": "Xx4toliWWYdT"
      }
    },
    {
      "cell_type": "code",
      "source": [
        "def main():\n",
        "  obj1 = open(\"WriteNumbers.txt\",\"w\")\n",
        "  for x in range(1,21):\n",
        "    x=str(x)\n",
        "    obj1.write(x)\n",
        "    obj1.write(\"\\n\")\n",
        "  obj1.close()\n",
        "\n",
        "main()"
      ],
      "metadata": {
        "id": "UO3cmNq2WTrD"
      },
      "execution_count": null,
      "outputs": []
    },
    {
      "cell_type": "markdown",
      "source": [
        "Generate 50 numbers within a range 500 to 1000 and write them to file **WriteNumRandom.txt**"
      ],
      "metadata": {
        "id": "_bDdj_c3Wql0"
      }
    },
    {
      "cell_type": "code",
      "source": [
        "from random import randint\n",
        "fp1 = open(\"WriteNumRandom.txt\",\"w\")\n",
        "for x in range(51):\n",
        "  x = randint(500,1000)\n",
        "  x = str(x)\n",
        "  fp1.write(x + \" \")\n",
        "\n",
        "fp1.close()"
      ],
      "metadata": {
        "id": "OzdU_PQzWh9V"
      },
      "execution_count": null,
      "outputs": []
    },
    {
      "cell_type": "markdown",
      "source": [
        "***Reading Text from a File***\n"
      ],
      "metadata": {
        "id": "1348dYj1W25j"
      }
    },
    {
      "cell_type": "code",
      "source": [
        "fp = open(\"/content/venni.txt\",\"r\")\n",
        "text = fp.read()\n",
        "print(text)"
      ],
      "metadata": {
        "colab": {
          "base_uri": "https://localhost:8080/"
        },
        "id": "8fXsvy3IWx8z",
        "outputId": "ee78400d-e962-4f9c-e041-04e7f8639a55"
      },
      "execution_count": null,
      "outputs": [
        {
          "output_type": "stream",
          "name": "stdout",
          "text": [
            "Hello good morning\n",
            "\n"
          ]
        }
      ]
    },
    {
      "cell_type": "markdown",
      "source": [
        "Write a program to read the content of the file \"WriteNumbers.txt\"\n"
      ],
      "metadata": {
        "id": "-4E29-JfXapC"
      }
    },
    {
      "cell_type": "code",
      "source": [
        "fp1 = open(\"/content/numbers.txt\",\"r\")\n",
        "num = fp1.read()\n",
        "print(num)\n",
        "print(type(num))"
      ],
      "metadata": {
        "colab": {
          "base_uri": "https://localhost:8080/"
        },
        "id": "wnKw1VVqXEV8",
        "outputId": "8cd1f8d6-72c7-4c44-a8ad-0ea0f184e721"
      },
      "execution_count": null,
      "outputs": [
        {
          "output_type": "stream",
          "name": "stdout",
          "text": [
            "123456789\n",
            "<class 'str'>\n"
          ]
        }
      ]
    },
    {
      "cell_type": "markdown",
      "source": [
        "Write a program to perform the following operation using seek() and basic file operations.\n",
        "\n",
        "<br> Open file \"Weekdays.txt\" in write mode.\n",
        "<br> Write weekdays from Monday to Friday in a file Weekdays.txt.\n",
        "<br>Use seek() to read the content of the file.\n",
        "<br>Set the pointer to the end of the file and append two remaining weekdays, i.e., Saturday and Sunday to the existing file Weekdays.txt.\n",
        "<br> Read and print akk content of the file."
      ],
      "metadata": {
        "id": "4p1uRdG8YXhy"
      }
    },
    {
      "cell_type": "code",
      "source": [
        "fp1 = open(\"Weekdays.txt\",\"w+\")\n",
        "fp1.write(\"Monday\\n\")\n",
        "fp1.write(\"Tuesday\\n\")\n",
        "fp1.write(\"Wednesday\\n\")\n",
        "fp1.write(\"Thursday\\n\")\n",
        "fp1.write(\"Friday\\n\")\n",
        "fp1.seek(0)\n",
        "t = fp1.read()\n",
        "print(t)"
      ],
      "metadata": {
        "colab": {
          "base_uri": "https://localhost:8080/"
        },
        "id": "lo0YbAFqYQe6",
        "outputId": "36659b46-1419-4cd6-de95-14de204d274b"
      },
      "execution_count": null,
      "outputs": [
        {
          "output_type": "stream",
          "name": "stdout",
          "text": [
            "Monday\n",
            "Tuesday\n",
            "Wednesday\n",
            "Thursday\n",
            "Friday\n",
            "\n"
          ]
        }
      ]
    },
    {
      "cell_type": "code",
      "source": [
        "fp1.seek(0,2)\n",
        "fp1.write('Saturday\\n')\n",
        "fp1.write(\"Sunday\\n\")\n",
        "fp1.seek(0)\n",
        "t = fp1.read()\n",
        "print(t)"
      ],
      "metadata": {
        "colab": {
          "base_uri": "https://localhost:8080/"
        },
        "id": "Y3wrhLF_YlNT",
        "outputId": "ae9940ac-76fc-478e-da6e-3f0a346d3de8"
      },
      "execution_count": null,
      "outputs": [
        {
          "output_type": "stream",
          "name": "stdout",
          "text": [
            "Monday\n",
            "Tuesday\n",
            "Wednesday\n",
            "Thursday\n",
            "Friday\n",
            "Saturday\n",
            "Sunday\n",
            "\n"
          ]
        }
      ]
    },
    {
      "cell_type": "markdown",
      "source": [
        "# Exception Handling"
      ],
      "metadata": {
        "id": "k5zFX52SYvvr"
      }
    },
    {
      "cell_type": "markdown",
      "source": [
        "TypeError"
      ],
      "metadata": {
        "id": "wBtxXTU6b20D"
      }
    },
    {
      "cell_type": "code",
      "source": [
        "2+'3'"
      ],
      "metadata": {
        "colab": {
          "base_uri": "https://localhost:8080/",
          "height": 141
        },
        "id": "n-7rfeuoYqXL",
        "outputId": "51681bab-0d7d-4eca-e182-8ac200c388d2"
      },
      "execution_count": 41,
      "outputs": [
        {
          "output_type": "error",
          "ename": "TypeError",
          "evalue": "unsupported operand type(s) for +: 'int' and 'str'",
          "traceback": [
            "\u001b[0;31m---------------------------------------------------------------------------\u001b[0m",
            "\u001b[0;31mTypeError\u001b[0m                                 Traceback (most recent call last)",
            "\u001b[0;32m<ipython-input-41-c24d39b239a5>\u001b[0m in \u001b[0;36m<cell line: 1>\u001b[0;34m()\u001b[0m\n\u001b[0;32m----> 1\u001b[0;31m \u001b[0;36m2\u001b[0m\u001b[0;34m+\u001b[0m\u001b[0;34m'3'\u001b[0m\u001b[0;34m\u001b[0m\u001b[0;34m\u001b[0m\u001b[0m\n\u001b[0m",
            "\u001b[0;31mTypeError\u001b[0m: unsupported operand type(s) for +: 'int' and 'str'"
          ]
        }
      ]
    },
    {
      "cell_type": "markdown",
      "source": [
        "NameError\n"
      ],
      "metadata": {
        "id": "yU6eFGNFb8ES"
      }
    },
    {
      "cell_type": "code",
      "source": [
        "sst[0]"
      ],
      "metadata": {
        "colab": {
          "base_uri": "https://localhost:8080/",
          "height": 141
        },
        "id": "dR_6PgBoY5ht",
        "outputId": "4a4c102c-11ed-4c12-de55-0673bf97d9c1"
      },
      "execution_count": 49,
      "outputs": [
        {
          "output_type": "error",
          "ename": "NameError",
          "evalue": "name 'sst' is not defined",
          "traceback": [
            "\u001b[0;31m---------------------------------------------------------------------------\u001b[0m",
            "\u001b[0;31mNameError\u001b[0m                                 Traceback (most recent call last)",
            "\u001b[0;32m<ipython-input-49-ccb48aa7d957>\u001b[0m in \u001b[0;36m<cell line: 1>\u001b[0;34m()\u001b[0m\n\u001b[0;32m----> 1\u001b[0;31m \u001b[0msst\u001b[0m\u001b[0;34m[\u001b[0m\u001b[0;36m0\u001b[0m\u001b[0;34m]\u001b[0m\u001b[0;34m\u001b[0m\u001b[0;34m\u001b[0m\u001b[0m\n\u001b[0m",
            "\u001b[0;31mNameError\u001b[0m: name 'sst' is not defined"
          ]
        }
      ]
    },
    {
      "cell_type": "markdown",
      "source": [
        "ValueError:"
      ],
      "metadata": {
        "id": "8itUaugRb_ec"
      }
    },
    {
      "cell_type": "code",
      "source": [
        "import math\n",
        "num = int(input('Enter a number: '))\n",
        "print('The factorial of {} is {1}'.format(num,math.factorial(num)))"
      ],
      "metadata": {
        "colab": {
          "base_uri": "https://localhost:8080/",
          "height": 193
        },
        "id": "U1xJI4GuY9Ab",
        "outputId": "1bf5bfa7-7db9-48f5-b758-378b8685067b"
      },
      "execution_count": 50,
      "outputs": [
        {
          "name": "stdout",
          "output_type": "stream",
          "text": [
            "Enter a number: 9\n"
          ]
        },
        {
          "output_type": "error",
          "ename": "ValueError",
          "evalue": "cannot switch from automatic field numbering to manual field specification",
          "traceback": [
            "\u001b[0;31m---------------------------------------------------------------------------\u001b[0m",
            "\u001b[0;31mValueError\u001b[0m                                Traceback (most recent call last)",
            "\u001b[0;32m<ipython-input-50-1bb41c3b1c0b>\u001b[0m in \u001b[0;36m<cell line: 3>\u001b[0;34m()\u001b[0m\n\u001b[1;32m      1\u001b[0m \u001b[0;32mimport\u001b[0m \u001b[0mmath\u001b[0m\u001b[0;34m\u001b[0m\u001b[0;34m\u001b[0m\u001b[0m\n\u001b[1;32m      2\u001b[0m \u001b[0mnum\u001b[0m \u001b[0;34m=\u001b[0m \u001b[0mint\u001b[0m\u001b[0;34m(\u001b[0m\u001b[0minput\u001b[0m\u001b[0;34m(\u001b[0m\u001b[0;34m'Enter a number: '\u001b[0m\u001b[0;34m)\u001b[0m\u001b[0;34m)\u001b[0m\u001b[0;34m\u001b[0m\u001b[0;34m\u001b[0m\u001b[0m\n\u001b[0;32m----> 3\u001b[0;31m \u001b[0mprint\u001b[0m\u001b[0;34m(\u001b[0m\u001b[0;34m'The factorial of {} is {1}'\u001b[0m\u001b[0;34m.\u001b[0m\u001b[0mformat\u001b[0m\u001b[0;34m(\u001b[0m\u001b[0mnum\u001b[0m\u001b[0;34m,\u001b[0m\u001b[0mmath\u001b[0m\u001b[0;34m.\u001b[0m\u001b[0mfactorial\u001b[0m\u001b[0;34m(\u001b[0m\u001b[0mnum\u001b[0m\u001b[0;34m)\u001b[0m\u001b[0;34m)\u001b[0m\u001b[0;34m)\u001b[0m\u001b[0;34m\u001b[0m\u001b[0;34m\u001b[0m\u001b[0m\n\u001b[0m",
            "\u001b[0;31mValueError\u001b[0m: cannot switch from automatic field numbering to manual field specification"
          ]
        }
      ]
    },
    {
      "cell_type": "code",
      "source": [
        "import math\n",
        "num = int(input('Enter a number: '))\n",
        "try:\n",
        "  print('The factorial of {0} is {1}'.format(num,math.factorial(num)))\n",
        "except ValueError:\n",
        "  print('Cannot compute factorial for negative number')"
      ],
      "metadata": {
        "colab": {
          "base_uri": "https://localhost:8080/"
        },
        "id": "g1mKA5nCZfKy",
        "outputId": "f09c00c0-88b8-41e9-aa95-2bc911bfb437"
      },
      "execution_count": null,
      "outputs": [
        {
          "output_type": "stream",
          "name": "stdout",
          "text": [
            "Enter a number: -8\n",
            "Cannot compute factorial for negative number\n"
          ]
        }
      ]
    },
    {
      "cell_type": "markdown",
      "source": [
        "### The program can be recovered from the exception as shown:"
      ],
      "metadata": {
        "id": "Q5eYe-fwZo77"
      }
    },
    {
      "cell_type": "code",
      "source": [
        "import math\n",
        "\n",
        "num = int(input('Enter a number: '))\n",
        "valid_inp = False\n",
        "\n",
        "while not valid_inp:\n",
        "  try:\n",
        "    print('The factorial of {0} is {1}'.format(num,math.factorial(num)))\n",
        "    valid_inp = True\n",
        "\n",
        "  except ValueError:\n",
        "    print('Cannot compute factorial for negative number')\n",
        "    num = int(input('Please RE-ENTER '))"
      ],
      "metadata": {
        "colab": {
          "base_uri": "https://localhost:8080/"
        },
        "id": "BZoGPzLCZkR7",
        "outputId": "8b3ba445-3a27-436e-adc2-54c6b9ab0301"
      },
      "execution_count": null,
      "outputs": [
        {
          "output_type": "stream",
          "name": "stdout",
          "text": [
            "Enter a number: -3\n",
            "Cannot compute factorial for negative number\n",
            "Please RE-ENTER 3\n",
            "The factorial of 3 is 6\n"
          ]
        }
      ]
    },
    {
      "cell_type": "markdown",
      "source": [
        "## Handling Exception raised by User defined Functions\n"
      ],
      "metadata": {
        "id": "5B87QaKtZ696"
      }
    },
    {
      "cell_type": "code",
      "source": [
        "def getMonth():\n",
        "  month = int(input('Enter a month (1-12)'))\n",
        "  if month < 1 or month > 12:\n",
        "    raise ValueError('Invalid Month Value')\n",
        "  return month\n",
        "\n",
        "m = getMonth()\n",
        "print(m)"
      ],
      "metadata": {
        "colab": {
          "base_uri": "https://localhost:8080/"
        },
        "id": "FaI4j__WZ3gK",
        "outputId": "04e4a7d2-aae4-4fee-fe2d-85437023511c"
      },
      "execution_count": null,
      "outputs": [
        {
          "output_type": "stream",
          "name": "stdout",
          "text": [
            "Enter a month (1-12)1\n",
            "1\n"
          ]
        }
      ]
    },
    {
      "cell_type": "markdown",
      "source": [
        "# Python Socket"
      ],
      "metadata": {
        "id": "4_dPY78Ya5Mj"
      }
    },
    {
      "cell_type": "code",
      "source": [
        "import socket\n",
        "import random\n",
        "import string\n",
        "\n",
        "server_object = socket.socket(family=socket.AF_INET, type=socket.SOCK_STREAM)\n",
        "\n",
        "\n",
        "ip_address = '127.0.0.1'\n",
        "port = 5555\n",
        "server_object.bind((ip_address, port))\n",
        "server_object.listen()\n",
        "\n",
        "\n",
        "connection_object, _ = server_object.accept()\n",
        "\n",
        "\n",
        "if connection_object:\n",
        "\n",
        "    print(\"SERVER CONNECTED TO CLIENT\")\n",
        "\n",
        "\n",
        "    connection_object.send(b\"type the message\")\n",
        "\n",
        "\n",
        "    data_receive = connection_object.recv(1024)\n",
        "\n",
        "    while data_receive != b'stop':\n",
        "        print(\"{}: {}\".format(\"CLIENT MESSAGE: \", data_receive.decode('utf-8')))\n",
        "        server_input = random.choice(string.ascii_letters)\n",
        "        connection_object.send(server_input.encode('utf-8'))\n",
        "        data_receive = connection_object.recv(1024)"
      ],
      "metadata": {
        "id": "fM0gDQjJbMBz"
      },
      "execution_count": null,
      "outputs": []
    },
    {
      "cell_type": "markdown",
      "source": [
        "# Client"
      ],
      "metadata": {
        "id": "FbquCmqSbSfa"
      }
    },
    {
      "cell_type": "code",
      "source": [
        "import socket\n",
        "\n",
        "\n",
        "client_object = socket.socket(family=socket.AF_INET, type=socket.SOCK_STREAM)\n",
        "\n",
        "\n",
        "ip_address = '127.0.0.1'\n",
        "port = 5555\n",
        "\n",
        "# Add a timeout for the connection attempt\n",
        "client_object.settimeout(5)  # Set a timeout of 5 seconds\n",
        "\n",
        "try:\n",
        "    # Make sure the server is running before attempting to connect\n",
        "    client_object.connect((ip_address,port))\n",
        "except socket.timeout:\n",
        "    print(\"Connection attempt timed out. Ensure the server is running.\")\n",
        "except ConnectionRefusedError:\n",
        "    print(\"Connection refused. Ensure the server is running on the correct address and port.\") # More specific error handling\n",
        "else:\n",
        "    data_receive = client_object.recv(1024)\n",
        "\n",
        "\n",
        "    if data_receive:\n",
        "\n",
        "        print(\"CLIENT CONNECTED TO SERVER\")\n",
        "        print(data_receive.decode('utf-8'))\n",
        "\n",
        "\n",
        "        while data_receive:\n",
        "\n",
        "            client_input = input().encode('utf-8')\n",
        "\n",
        "\n",
        "            client_object.send(client_input)\n",
        "\n",
        "            data_receive = client_object.recv(1024)\n",
        "            if data_receive:\n",
        "                print(\"{}: {}\".format(\"SERVER\",data_receive.decode('utf-8')))"
      ],
      "metadata": {
        "id": "SzWtJZMlbTBa",
        "colab": {
          "base_uri": "https://localhost:8080/"
        },
        "outputId": "f4d0aac7-3973-43a0-c98c-befd74c26758"
      },
      "execution_count": null,
      "outputs": [
        {
          "output_type": "stream",
          "name": "stdout",
          "text": [
            "Connection refused. Ensure the server is running on the correct address and port.\n"
          ]
        }
      ]
    },
    {
      "cell_type": "markdown",
      "source": [
        "**Making a GET request**"
      ],
      "metadata": {
        "id": "Bggj09psbgqU"
      }
    },
    {
      "cell_type": "code",
      "source": [
        "import requests\n",
        "\n",
        "# The API endpoint\n",
        "url = \"https://jsonplaceholder.typicode.com/posts/1\"\n",
        "\n",
        "# A GET request to the API\n",
        "response = requests.get(url)\n",
        "\n",
        "# Print the response\n",
        "response_json = response.json()\n",
        "print(response_json)\n",
        "\n",
        "\"\"\"\n",
        "{'userId': 1, 'id': 1, 'title': 'sunt aut facere repellat provident occaecati excepturi optio reprehenderit', 'body': 'quia et suscipit\\nsuscipit recusandae consequuntur expedita et cum\\nreprehenderit molestiae ut ut quas totam\\nnostrum rerum est autem sunt rem eveniet architecto'}\n",
        "\"\"\""
      ],
      "metadata": {
        "id": "7GFrbQ7DbjjM"
      },
      "execution_count": null,
      "outputs": []
    },
    {
      "cell_type": "markdown",
      "source": [
        "**Making a POST request**"
      ],
      "metadata": {
        "id": "h1J4SK68bpU6"
      }
    },
    {
      "cell_type": "code",
      "source": [
        "# Define new data to create\n",
        "new_data = {\n",
        "    \"userID\": 1,\n",
        "    \"id\": 1,\n",
        "    \"title\": \"Making a POST request\",\n",
        "    \"body\": \"This is the data we created.\"\n",
        "}\n",
        "\n",
        "# The API endpoint to communicate with\n",
        "url_post = \"https://jsonplaceholder.typicode.com/posts\"\n",
        "\n",
        "# A POST request to tthe API\n",
        "post_response = requests.post(url_post, json=new_data)\n",
        "\n",
        "# Print the response\n",
        "post_response_json = post_response.json()\n",
        "print(post_response_json)\n",
        "\n",
        "\"\"\"\n",
        "{'userID': 1, 'id': 101, 'title': 'Making a POST request', 'body': 'This is the data we created.'}\n",
        "\"\"\""
      ],
      "metadata": {
        "id": "SSZ5INcpbp_i"
      },
      "execution_count": null,
      "outputs": []
    }
  ]
}